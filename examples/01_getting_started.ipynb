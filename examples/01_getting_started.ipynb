{
 "cells": [
  {
   "cell_type": "markdown",
   "metadata": {},
   "source": [
    "# Getting Started\n",
    "\n",
    "In this example we will learn how to create and display K3D plots.\n",
    "\n",
    "The main object is the plot, which can be created using the `plot()` fuction from the `k3d` module.\n",
    "\n",
    "To show the plot below a Jupyter cell, we call its `display()` method."
   ]
  },
  {
   "cell_type": "markdown",
   "metadata": {
    "collapsed": true
   },
   "source": [
    "If K3D is installed properly, after executing the above snippet you should see something like this:\n",
    "\n",
    "![Empty plot](assets/01_empty_plot.png \"Empty K3D plot\")\n",
    "\n",
    "In the next example we will learn how to display objects on the plot."
   ]
  },
  {
   "cell_type": "code",
   "execution_count": 9,
   "metadata": {},
   "outputs": [
    {
     "data": {
      "application/vnd.jupyter.widget-view+json": {
       "model_id": "2c59bf222af240a6ac44ac7dd3e85b53",
       "version_major": 2,
       "version_minor": 0
      },
      "text/plain": [
       "Output()"
      ]
     },
     "metadata": {},
     "output_type": "display_data"
    }
   ],
   "source": [
    "import numpy as np\n",
    "import k3d\n",
    "\n",
    "plot = k3d.plot()\n",
    "plot.display()"
   ]
  },
  {
   "cell_type": "code",
   "execution_count": 10,
   "metadata": {},
   "outputs": [],
   "source": [
    "import numpy as np\n",
    "\n",
    "def lorenz(x, y, z, s=10, r=28, b=2.667):\n",
    "    x_dot = s*(y - x)\n",
    "    y_dot = r*x - y - x*z\n",
    "    z_dot = x*y - b*z\n",
    "    return x_dot, y_dot, z_dot\n",
    "\n",
    "\n",
    "dt = 0.01\n",
    "stepCnt = 10000\n",
    "\n",
    "# Need one more for the initial values\n",
    "xs = np.empty((stepCnt + 1,), dtype=np.float32)\n",
    "ys = np.empty((stepCnt + 1,), dtype=np.float32)\n",
    "zs = np.empty((stepCnt + 1,), dtype=np.float32)\n",
    "\n",
    "# Setting initial values\n",
    "xs[0], ys[0], zs[0] = (0., 1., 1.05)\n",
    "\n",
    "# Stepping through \"time\".\n",
    "for i in range(stepCnt):\n",
    "    # Derivatives of the X, Y, Z state\n",
    "    x_dot, y_dot, z_dot = lorenz(xs[i], ys[i], zs[i])\n",
    "    xs[i + 1] = xs[i] + (x_dot * dt)\n",
    "    ys[i + 1] = ys[i] + (y_dot * dt)\n",
    "    zs[i + 1] = zs[i] + (z_dot * dt)\n",
    "\n",
    "\n",
    "line = k3d.line(np.vstack([xs,ys,zs]).T / 100, color=0x00ff00)\n",
    "\n",
    "plot += line"
   ]
  },
  {
   "cell_type": "code",
   "execution_count": null,
   "metadata": {},
   "outputs": [],
   "source": []
  }
 ],
 "metadata": {
  "kernelspec": {
   "display_name": "Python 3",
   "language": "python",
   "name": "python3"
  },
  "language_info": {
   "codemirror_mode": {
    "name": "ipython",
    "version": 3
   },
   "file_extension": ".py",
   "mimetype": "text/x-python",
   "name": "python",
   "nbconvert_exporter": "python",
   "pygments_lexer": "ipython3",
   "version": "3.7.3"
  }
 },
 "nbformat": 4,
 "nbformat_minor": 2
}
