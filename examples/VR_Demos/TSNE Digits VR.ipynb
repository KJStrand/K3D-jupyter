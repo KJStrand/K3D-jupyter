{
 "cells": [
  {
   "cell_type": "markdown",
   "metadata": {},
   "source": [
    "# 3-D t-Distributed Stochastic Neighbor Embedding\n",
    "\n",
    "Unsupervised learning; tSNE doesn't receive labels yet forms clusters from high dimensional patterns."
   ]
  },
  {
   "cell_type": "code",
   "execution_count": 1,
   "metadata": {
    "ExecuteTime": {
     "end_time": "2019-04-18T20:40:46.224530Z",
     "start_time": "2019-04-18T20:40:45.715673Z"
    }
   },
   "outputs": [],
   "source": [
    "import sklearn\n",
    "from sklearn.manifold import TSNE\n",
    "from sklearn import datasets\n",
    "from k3d import plot, points, nice_colors, text2d\n",
    "import numpy as np"
   ]
  },
  {
   "cell_type": "code",
   "execution_count": 2,
   "metadata": {},
   "outputs": [],
   "source": [
    "digits = datasets.load_digits()"
   ]
  },
  {
   "cell_type": "code",
   "execution_count": 3,
   "metadata": {
    "ExecuteTime": {
     "end_time": "2019-04-18T20:43:19.952715Z",
     "start_time": "2019-04-18T20:43:19.945843Z"
    }
   },
   "outputs": [],
   "source": [
    "tsne = TSNE(n_components=3, verbose=1, perplexity=40, n_iter=1000)"
   ]
  },
  {
   "cell_type": "code",
   "execution_count": 4,
   "metadata": {},
   "outputs": [
    {
     "name": "stdout",
     "output_type": "stream",
     "text": [
      "[t-SNE] Computing 121 nearest neighbors...\n",
      "[t-SNE] Indexed 1797 samples in 0.036s...\n",
      "[t-SNE] Computed neighbors for 1797 samples in 0.665s...\n",
      "[t-SNE] Computed conditional probabilities for sample 1000 / 1797\n",
      "[t-SNE] Computed conditional probabilities for sample 1797 / 1797\n",
      "[t-SNE] Mean sigma: 8.394135\n",
      "[t-SNE] KL divergence after 250 iterations with early exaggeration: 61.873466\n",
      "[t-SNE] KL divergence after 1000 iterations: 0.582597\n"
     ]
    }
   ],
   "source": [
    "tsne_results = tsne.fit_transform(digits.data).astype(np.float32)"
   ]
  },
  {
   "cell_type": "code",
   "execution_count": 5,
   "metadata": {},
   "outputs": [],
   "source": [
    "def legend(p, axes=None):\n",
    "    \"\"\"Display classes' names in their color.\"\"\"\n",
    "#     k3dplot = plot(axes=['\\:'.join(a.split(' ')) for a in axes.tolist()])\n",
    "    k3dplot = plot()\n",
    "    k3dplot += p\n",
    "    for i, name in enumerate(digits.target_names):\n",
    "        k3dplot += text2d(text=str(name), color=nice_colors[i], position=(0, i / 10))\n",
    "    return k3dplot\n",
    "\n",
    "def point_size(data, resolution=20.):\n",
    "    span = max(np.max(data, axis=0) - np.min(data, axis=0))\n",
    "    return (span / resolution) * 0.4\n",
    "\n",
    "common = dict(\n",
    "    point_size=point_size(digits.data), \n",
    "    colors=[nice_colors[i] for i in digits.target]\n",
    ")"
   ]
  },
  {
   "cell_type": "code",
   "execution_count": 6,
   "metadata": {
    "ExecuteTime": {
     "end_time": "2019-04-18T20:43:26.650496Z",
     "start_time": "2019-04-18T20:43:26.643330Z"
    }
   },
   "outputs": [
    {
     "data": {
      "text/plain": [
       "array([[ -1.692848 ,  17.24548  ,   2.342643 ],\n",
       "       [ -4.292169 ,  -4.6276927,  -6.6231384],\n",
       "       [ -8.631628 ,  -0.4690918,   2.015494 ],\n",
       "       [ -1.508995 ,   2.3031564,  10.510045 ],\n",
       "       [  4.5734644,  -6.5477595, -13.281244 ]], dtype=float32)"
      ]
     },
     "execution_count": 6,
     "metadata": {},
     "output_type": "execute_result"
    }
   ],
   "source": [
    "tsne_results[:5]"
   ]
  },
  {
   "cell_type": "code",
   "execution_count": 7,
   "metadata": {},
   "outputs": [],
   "source": [
    "tsne_results_offset = np.array([0, 2, -0.75], dtype=np.float32)\n",
    "tsne_results_scale = 0.05"
   ]
  },
  {
   "cell_type": "code",
   "execution_count": 8,
   "metadata": {},
   "outputs": [
    {
     "name": "stdout",
     "output_type": "stream",
     "text": [
      "[[-0.0846424   2.862274   -0.6328679 ]\n",
      " [-0.21460846  1.7686154  -1.081157  ]\n",
      " [-0.4315814   1.9765455  -0.6492253 ]\n",
      " ...\n",
      " [-0.20286834  1.8362269  -0.7517934 ]\n",
      " [ 0.20804654  2.0607526  -0.41300562]\n",
      " [-0.20379885  1.904791   -0.5449871 ]]\n"
     ]
    }
   ],
   "source": [
    "tsne_plotted = np.multiply(tsne_results, tsne_results_scale, dtype=np.float32)\n",
    "tsne_plotted = np.add(tsne_plotted, tsne_results_offset)\n",
    "print(tsne_plotted)"
   ]
  },
  {
   "cell_type": "code",
   "execution_count": 9,
   "metadata": {
    "ExecuteTime": {
     "end_time": "2019-04-18T20:43:39.427908Z",
     "start_time": "2019-04-18T20:43:39.399251Z"
    }
   },
   "outputs": [
    {
     "data": {
      "application/vnd.jupyter.widget-view+json": {
       "model_id": "676e9d0bfb1c4455a09b715f6f78dfcc",
       "version_major": 2,
       "version_minor": 0
      },
      "text/plain": [
       "Plot(antialias=3, axes=['x', 'y', 'z'], axes_helper=1.0, background_color=16777215, camera=[4.5, 4.5, 4.5, 0.0…"
      ]
     },
     "metadata": {},
     "output_type": "display_data"
    }
   ],
   "source": [
    "common['point_size'] = point_size(tsne_plotted)\n",
    "legend(points(tsne_plotted, **common, shader='mesh'))"
   ]
  },
  {
   "cell_type": "code",
   "execution_count": null,
   "metadata": {},
   "outputs": [],
   "source": []
  }
 ],
 "metadata": {
  "kernelspec": {
   "display_name": "Python 3",
   "language": "python",
   "name": "python3"
  },
  "language_info": {
   "codemirror_mode": {
    "name": "ipython",
    "version": 3
   },
   "file_extension": ".py",
   "mimetype": "text/x-python",
   "name": "python",
   "nbconvert_exporter": "python",
   "pygments_lexer": "ipython3",
   "version": "3.7.3"
  }
 },
 "nbformat": 4,
 "nbformat_minor": 2
}
