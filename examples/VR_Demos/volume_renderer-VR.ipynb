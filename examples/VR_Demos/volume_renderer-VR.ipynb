{
 "cells": [
  {
   "cell_type": "code",
   "execution_count": 1,
   "metadata": {},
   "outputs": [],
   "source": [
    "import k3d\n",
    "import math\n",
    "import numpy as np\n",
    "import nibabel as nib\n",
    "from k3d.helpers import download"
   ]
  },
  {
   "cell_type": "code",
   "execution_count": 2,
   "metadata": {},
   "outputs": [
    {
     "data": {
      "application/vnd.jupyter.widget-view+json": {
       "model_id": "0bd10d349da641bb84008c62af804800",
       "version_major": 2,
       "version_minor": 0
      },
      "text/plain": [
       "Output()"
      ]
     },
     "metadata": {},
     "output_type": "display_data"
    }
   ],
   "source": [
    "plot = k3d.plot()\n",
    "plot.display()"
   ]
  },
  {
   "cell_type": "code",
   "execution_count": 3,
   "metadata": {
    "scrolled": false
   },
   "outputs": [
    {
     "name": "stdout",
     "output_type": "stream",
     "text": [
      "(56, 512, 384)\n"
     ]
    }
   ],
   "source": [
    "# filename = download('https://github.com/FNNDSC/data/raw/master/nifti/adi_brain/adi_brain.nii.gz')\n",
    "filename = \"adi_brain.nii.gz\"\n",
    "\n",
    "nii_source = nib.load(filename)\n",
    "img = nii_source.get_fdata().astype(np.float32)\n",
    "dx, dy, dz = nii_source.header.get_zooms()\n",
    "img = np.swapaxes(img,0,2).astype(np.float32)\n",
    "# img = img.T\n",
    "# img = np.swapaxes(img,0,2)\n",
    "img = np.flip(img, 0)\n",
    "img = np.flip(img, 1)\n",
    "img = np.flip(img, 2)\n",
    "\n",
    "print(img.shape)\n",
    "# nz, ny, nx = img.shape\n",
    "\n",
    "volume = k3d.volume(img, color_range=[50,1000], samples=200, color_map=np.array(k3d.basic_color_maps.Jet, dtype=np.float32))\n",
    "\n",
    "volume.transform.bounds = [-0.5, 0.5,\n",
    "                           1,2,\n",
    "                           -2,-1]\n",
    "\n",
    "# volume.transform.rotation = [2, 1, 0, 0]\n",
    "\n",
    "plot += volume"
   ]
  },
  {
   "cell_type": "code",
   "execution_count": null,
   "metadata": {},
   "outputs": [],
   "source": [
    "volume.samples = 20"
   ]
  },
  {
   "cell_type": "code",
   "execution_count": 4,
   "metadata": {},
   "outputs": [],
   "source": [
    "volume.color_range = [650,1500]"
   ]
  },
  {
   "cell_type": "code",
   "execution_count": 11,
   "metadata": {},
   "outputs": [],
   "source": [
    "volume.color_range=[50,1000]"
   ]
  },
  {
   "cell_type": "code",
   "execution_count": null,
   "metadata": {},
   "outputs": [],
   "source": []
  }
 ],
 "metadata": {
  "kernelspec": {
   "display_name": "Python 3",
   "language": "python",
   "name": "python3"
  },
  "language_info": {
   "codemirror_mode": {
    "name": "ipython",
    "version": 3
   },
   "file_extension": ".py",
   "mimetype": "text/x-python",
   "name": "python",
   "nbconvert_exporter": "python",
   "pygments_lexer": "ipython3",
   "version": "3.7.3"
  }
 },
 "nbformat": 4,
 "nbformat_minor": 2
}
